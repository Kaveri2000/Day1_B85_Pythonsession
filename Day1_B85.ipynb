{
 "cells": [
  {
   "cell_type": "code",
   "execution_count": null,
   "id": "2a3da816-b095-41c4-9a30-8b1a73f91202",
   "metadata": {},
   "outputs": [],
   "source": []
  },
  {
   "cell_type": "code",
   "execution_count": 3,
   "id": "6a880c8b-7230-4f83-a552-8b8ff36415ca",
   "metadata": {},
   "outputs": [
    {
     "name": "stdout",
     "output_type": "stream",
     "text": [
      "Hello welcome to the session of python prgramming\n"
     ]
    }
   ],
   "source": [
    "print(\"Hello welcome to the session of python prgramming\")\n"
   ]
  },
  {
   "cell_type": "code",
   "execution_count": null,
   "id": "bbafda1c-abb4-4702-bf54-138a9e66e7b6",
   "metadata": {},
   "outputs": [],
   "source": []
  },
  {
   "cell_type": "code",
   "execution_count": null,
   "id": "69f0b45f-2290-4f55-893c-2a3d71972ecc",
   "metadata": {},
   "outputs": [],
   "source": []
  }
 ],
 "metadata": {
  "kernelspec": {
   "display_name": "anaconda-panel-2023.05-py310",
   "language": "python",
   "name": "conda-env-anaconda-panel-2023.05-py310-py"
  },
  "language_info": {
   "codemirror_mode": {
    "name": "ipython",
    "version": 3
   },
   "file_extension": ".py",
   "mimetype": "text/x-python",
   "name": "python",
   "nbconvert_exporter": "python",
   "pygments_lexer": "ipython3",
   "version": "3.11.5"
  }
 },
 "nbformat": 4,
 "nbformat_minor": 5
}
